{
 "cells": [
  {
   "cell_type": "markdown",
   "metadata": {},
   "source": [
    "# Exercici AvCont-4(a): Implementació de Compressió LZ-77\n",
    "\n",
    "**Alumno:** German Dempere Guillermo  \n",
    "**NIUB:** 16662225\n",
    "\n",
    "## Ejercicio:\n",
    "\n",
    "Implementad en Java un compresor/descompresor de datos binarios mediante el algoritmo LZ-77. Debe cumplir las siguientes especificaciones:  \n",
    "\n",
    "Formato de entrada y salida de datos: String binaria (unos y ceros) de longitud arbitraria.\n",
    "Posibilidad de configurar a longitud de la Ventana de Entrada (Ment) y Ventana Deslizante (Mdes) variables.\n",
    "Control de configuración válida; Ment y Mdes deben ser:  \n",
    "- Potencias de 2\n",
    "- Ment<=Mdes\n",
    "- Mdes+Ment<= longitud datos a comprimir\n",
    "- Formato datos comprimidos: String binaria con\n",
    "- Cabecera con los primeros “Mdes” bits de los datos de entrada\n",
    "\n",
    "Almacenar TODAS las coincidencias (L,D) (incluso las de L=1) en formato binario de longitud fija (log2(Ment) + log2(Mdes) bits en total)\n",
    "\n",
    "**Ejemplo**: si Ment = 4 y Mdes = 8\n",
    "\n",
    "- (1,1) se guarda como “01 001”\n",
    "- (2,6) se guarda como “10 110”\n",
    "- (3,8) se guarda como “11 000”\n",
    "- (4,5) se guarda como “00 101”\n",
    "\n",
    "\n",
    "La búsqueda de coincidencias finaliza cuando los bits que quedan por procesar són menos que Ment. En tal caso, guardar estos bits restantes al final de la cadena comprimida.\n",
    "\n",
    "### Apartados:\n",
    "\n",
    "1. Comprobad que el programa comprime y descomprime correctamente una cadena de 25 bits aleatorios con Mdes = 8 y Ment = 4.\n",
    "   <br>*Ayuda: Podéis generar bits aleatorios con Math.round(Math.random())*\n",
    "2. Utilizad el programa anterior para determinar si es posible, ajustando los valores de Mdes y Ment, conseguir comprimir datos aleatorios mediante LZ77 (es decir, que la cadena de datos originales sea más larga que la cadena comprimida).¿Por qué? ¿Cuál es la máxima compresión que lográis? ¿Con qué valores?\n",
    "    <br>*Ayuda: utilizad una cadena de datos de entrada de, por lo menos, 10000 bits aleatorios. Ajustad Mdes y Ment entre 2 y 2048).*\n",
    "    \n"
   ]
  },
  {
   "cell_type": "code",
   "execution_count": 313,
   "metadata": {},
   "outputs": [],
   "source": [
    "# Setup\n",
    "import matplotlib.pyplot as plt\n",
    "%matplotlib inline\n",
    "\n",
    "# Utility Functions\n",
    "DEBUG = False\n",
    "\n",
    "def debug(*args):\n",
    "    if DEBUG:\n",
    "        for arg in args:\n",
    "            print arg,\n",
    "        print \"\""
   ]
  },
  {
   "cell_type": "markdown",
   "metadata": {},
   "source": [
    "## Implementacion\n",
    "\n",
    "### Codificacion LZ77\n",
    "\n",
    "El primer paso sera implementar la function de compression *lz77*, tomando como parametros 3 entradas:\n",
    "- El *bitstring* a comprimir\n",
    "- El tamaño de la ventada de entrada\n",
    "- El tamaño de la ventana deslizante\n",
    "\n",
    "Para esta función vamos a abuscar de los indices por offset que ofrece Python.\n",
    "\n",
    "Como supondremos que los valores de *window* y *lookahead* seran potencias de dos, lo primero que haremos sera\n",
    "generar nosotros unos strings especiales de formato binario para convertir nuestras tuplas $(l,d)$ a la representacion en bits *zero-padded* que nos permitirá despues descomprimir sin tener que insertar delimitadores para saber cuando empiezan o acaban las tuplas $(l,d)$\n",
    "\n",
    "**Nota**: En el caso que ningun *string* parcial de la venta de entrada sea encontrado en la ventana deslizante, el codificador no podrá continuar, en tal caso, generará una excepcion. Una solucion es incrementar el tamaño de la ventana de entrada."
   ]
  },
  {
   "cell_type": "code",
   "execution_count": 160,
   "metadata": {},
   "outputs": [
    {
     "name": "stdout",
     "output_type": "stream",
     "text": [
      "1010(1,11)\n",
      "111111(101,101)\n"
     ]
    }
   ],
   "source": [
    "def lz77(string, lookahead, win):\n",
    "    ''' LZ77 compression using a sliding window and a lookahead window'''\n",
    "    \n",
    "    if lookahead > win:\n",
    "        raise Exception(\"Invalid parameter, lookahead must be <= window\")\n",
    "    \n",
    "    la_bits = len(bin(lookahead-1)[2:])\n",
    "    win_bits = len(bin(win-1)[2:])\n",
    "    la_format = '{0:0%db}' % la_bits\n",
    "    win_format = '{0:0%db}' % win_bits\n",
    "    \n",
    "    debug(la_bits, win_bits)\n",
    "    \n",
    "    outstr = string[:win]\n",
    "    at = win\n",
    "    \n",
    "    while at < len(string):\n",
    "        debug (\"================================\")\n",
    "        debug (\"at index\", at)\n",
    "        \n",
    "        winstr = string[at-win:at]\n",
    "        lookstr = string[at:at+lookahead]\n",
    "        \n",
    "        while len(lookstr) > 0 and lookstr not in winstr:\n",
    "            debug(lookstr, \"not found in\", winstr)\n",
    "            lookstr = lookstr[:-1]\n",
    "            \n",
    "        # lookstr is either \"\" or found in window\n",
    "        if len(lookstr) == 0:\n",
    "            debug(string[at:at+lookahead], \"not partially found in\", winstr)\n",
    "            raise Exception(\"Can't complete LZ77 encoding, lookahead not found in window\")\n",
    "        \n",
    "        debug (lookstr, \"found in\", winstr)\n",
    "        l = len(lookstr)\n",
    "        d = win - winstr.index(lookstr)\n",
    "        \n",
    "        debug (\"len\", l, \"dist\", d)\n",
    "        \n",
    "        bl = la_format.format(l-1)\n",
    "        bd = win_format.format(d-1)\n",
    "        \n",
    "        outstr += \"(%s,%s)\" % (bl,bd)\n",
    "        at = at + l\n",
    "        debug (\"jump to index\", at) \n",
    "        \n",
    "    \n",
    "    return outstr\n",
    "\n",
    "\n",
    "DEBUG = False\n",
    "print lz77(\"101010\", 2, 4)          # expected 1010(1,11)\n",
    "print lz77(\"111111111111\", 6, 6)    # expected 111111(101,101)\n",
    "\n"
   ]
  },
  {
   "cell_type": "markdown",
   "metadata": {},
   "source": [
    "### Decodificacion LZ77\n",
    "\n",
    "El segundo paso sera crear la funcion que nos permita traducir la salida de nuestra funcion *LZ77* al bitstring original. Para eso tendremos dos pasos:\n",
    "1. Insertar todos los bits tal cual del tamaño de la ventana en nuestra salida\n",
    "1. Procesar los pares de tuplas contra nuestra salida cumulativa"
   ]
  },
  {
   "cell_type": "code",
   "execution_count": 192,
   "metadata": {},
   "outputs": [
    {
     "name": "stdout",
     "output_type": "stream",
     "text": [
      "entrada     111111100001111111110000001111111110000000\n",
      "codificad   1111111000011111(111,1100)(111,1110)(111,1110)(001,1111)\n",
      "decodific   111111100001111111110000001111111110000000\n"
     ]
    }
   ],
   "source": [
    "\n",
    "def lz77_decode(string, lookahead, win):\n",
    "    ''' LZ77 Decoder. Must be supplied with the same parameters as used for the encoding '''\n",
    "    \n",
    "    if lookahead > win:\n",
    "        raise Exception(\"Invalid parameter, lookahead must be <= window\")\n",
    "    \n",
    "    la_bits = len(bin(lookahead-1)[2:])\n",
    "    win_bits = len(bin(win-1)[2:])\n",
    "    t_bits = la_bits+win_bits\n",
    "    \n",
    "    debug (\"total bits: \", t_bits)\n",
    "    \n",
    "    outstr = string[:win]\n",
    "    at = win\n",
    "    while at < len(string):\n",
    "        debug (\"----------------\")\n",
    "        ld = string[at:at+t_bits+3] # +3 chars to account for (,)\n",
    "        \n",
    "        # Obtain L, D from their bitstring representations\n",
    "        l, d = ld[1:-1].split(',')\n",
    "        l = int(l,2)+1\n",
    "        d = int(d,2)+1\n",
    "        \n",
    "        debug (\"at\", at)\n",
    "        debug (\"l,d\", l,d )\n",
    "        debug (\"len outstr\", len(outstr))\n",
    "        \n",
    "        # Stand and end offset indices from the end of the current buffer\n",
    "        # - *start index* is the distance bacl\n",
    "        # - *end index is*  the distance back plus the lenght\n",
    "        #\n",
    "        # in the case of end index = 0, the intepretation is that we have a 0 offset\n",
    "        # from the back, so we set the end index to None so python does just that\n",
    "        \n",
    "        sx = -d\n",
    "        ex = -d+l\n",
    "        \n",
    "        if ex is 0:\n",
    "            ex = None\n",
    "            \n",
    "        debug (\"index \", sx, ex)\n",
    "        \n",
    "        ref = outstr[sx:ex]\n",
    "        debug (\"ref\", ref)\n",
    "        outstr += ref\n",
    "        \n",
    "        at += t_bits+3\n",
    "        \n",
    "    return outstr\n",
    "    \n",
    "    \n",
    "win = 16\n",
    "lah = 8\n",
    "    \n",
    "entrada = \"111111100001111111110000001111111110000000\"\n",
    "\n",
    "encoded = lz77(entrada, lah, win)\n",
    "\n",
    "print \"entrada    \", entrada\n",
    "print \"codificad  \", encoded\n",
    "\n",
    "decoded = lz77_decode(encoded, lah, win)\n",
    "\n",
    "print \"decodific  \", decoded\n",
    "\n",
    "assert entrada == decoded, \"encoded and decoded strings DO NOT match!\""
   ]
  },
  {
   "cell_type": "markdown",
   "metadata": {},
   "source": [
    "## Set de Pruebas\n",
    "\n",
    "### Pruebas con Datos Aleatorios\n",
    "\n",
    "No es demasiado interesante hacer las pruebas, ya que sabemos que los datos de ruido aleatorio tienen una entropia de `1 bit por bit` asi que son incomprimibles, pero por seguir las instrucciones procederemos.\n",
    "\n",
    "**Nota**: Para facilitar ver los bordes de las tuplas $l,d$ se ha decidido durante el desarrollo mantener los caracters `( , )` en el *string* codificado final. No se usan en ningun momento para saber las *boundaries* de las tuplas $l, d$, y en las metricas de compresión no se tienen en cuenta para calcular la longitud en bits."
   ]
  },
  {
   "cell_type": "code",
   "execution_count": 337,
   "metadata": {},
   "outputs": [
    {
     "data": {
      "text/plain": [
       "[<matplotlib.lines.Line2D at 0x2bf31f98>]"
      ]
     },
     "execution_count": 337,
     "metadata": {},
     "output_type": "execute_result"
    },
    {
     "data": {
      "image/png": "[encoded data removed]",
      "text/plain": [
       "<Figure size 1152x432 with 1 Axes>"
      ]
     },
     "metadata": {},
     "output_type": "display_data"
    }
   ],
   "source": [
    "from random import choice\n",
    "\n",
    "randstr = \"\"\n",
    "for i in range(2**16):\n",
    "    randstr += choice(['0', '1'])\n",
    "\n",
    "X = []\n",
    "Y = []\n",
    "lah = 32\n",
    "for win_pow in range(6,14):\n",
    "    win = 2**win_pow\n",
    "    lz = lz77(randstr, lah, win).replace('(','').replace(')','').replace(',','')\n",
    "\n",
    "    ratio = len(lz) *1. / len(randstr)\n",
    "    X += [win]\n",
    "    Y += [ratio]\n",
    "\n",
    "plt.figure(figsize=[16,6])\n",
    "plt.ylabel('Compression Ratio')\n",
    "plt.xlabel('Window Size')\n",
    "plt.plot(X,Y)"
   ]
  },
  {
   "cell_type": "markdown",
   "metadata": {},
   "source": [
    "Como podemos ver en el grafico, la compresion se mantiene por encima de 1 siempre, y tenemos un comportamiento asimtotico hacia un teorico limite de $1$ que no lograriamos alcanzar nunca, excepto en el caso que nuestra ventana sea del mismo tamaño que todos los datos que intentamos comprimir."
   ]
  },
  {
   "cell_type": "markdown",
   "metadata": {},
   "source": [
    "### Pruebas con datos Reales\n",
    "\n",
    "Ya tenemos las dos funciones que realizan la compresion y decompresion de datos binarios. Ahora podemos prodecer a estudiar como afectan los *parametros* de *window* y *lookahead* al factor de compresion.\n",
    "\n",
    "**Nota**: Para facilitar ver los bordes de las tuplas $l,d$ se ha decidido durante el desarrollo mantener los caracters `( , )` en el *string* codificado final. No se usan en ningun momento para saber las *boundaries* de las tuplas $l, d$, y en las metricas de compresión no se tienen en cuenta para calcular la longitud en bits.\n",
    "\n",
    "Lo primero que necesitaremos son las funciones de `ASCII -> bits` y de `bits -> ASCII`"
   ]
  },
  {
   "cell_type": "code",
   "execution_count": 239,
   "metadata": {},
   "outputs": [],
   "source": [
    "def text2bits(text):\n",
    "    return ''.join(format(ord(x), '07b') for x in text)\n",
    "\n",
    "def bits2text(bits):\n",
    "    l = len(bits)\n",
    "    assert l % 7 == 0, \"Number of bits is not multiple of 8. Not ASCII text\"\n",
    "    n = 7\n",
    "    charcodes = [bits[i:i+n] for i in range(0, len(bits), n)]\n",
    "    return ''.join([chr(int(code,2)) for code in charcodes])\n",
    "    \n",
    "string = \"NF(/AGFD)/A&G)/DFGAs46846878d0GAS&/(DGAS&/=)(GDA)/S\"\n",
    "bits = text2bits(string)\n",
    "assert bits2text(bits) == string, \"String and bits to string do not match\""
   ]
  },
  {
   "cell_type": "markdown",
   "metadata": {},
   "source": [
    "### Lookahead de 16 bits, Window de 2^4 a 2^18"
   ]
  },
  {
   "cell_type": "code",
   "execution_count": 336,
   "metadata": {},
   "outputs": [
    {
     "data": {
      "text/plain": [
       "[<matplotlib.lines.Line2D at 0xa4c0c18>]"
      ]
     },
     "execution_count": 336,
     "metadata": {},
     "output_type": "execute_result"
    },
    {
     "data": {
      "image/png": "[encoded data removed]",
      "text/plain": [
       "<Figure size 1152x432 with 1 Axes>"
      ]
     },
     "metadata": {},
     "output_type": "display_data"
    }
   ],
   "source": [
    "quijote = open('quijote.txt','r').read()\n",
    "quijote = text2bits(quijote)\n",
    "\n",
    "X = []\n",
    "Y = []\n",
    "lah = 16\n",
    "for win_pow in range(4,18):\n",
    "    win = 2**win_pow\n",
    "    lz = lz77(quijote, lah, win).replace('(','').replace(')','').replace(',','')\n",
    "\n",
    "    ratio = len(lz) *1. / len(quijote)\n",
    "    X += [win]\n",
    "    Y += [ratio]\n",
    "\n",
    "plt.figure(figsize=[16,6])\n",
    "plt.ylabel('Compression Ratio')\n",
    "plt.xlabel('Window Size')\n",
    "plt.plot(X,Y)"
   ]
  },
  {
   "cell_type": "markdown",
   "metadata": {},
   "source": [
    "### Lookahead de 32 bits, Window de 2^5 a 2^18"
   ]
  },
  {
   "cell_type": "code",
   "execution_count": 339,
   "metadata": {},
   "outputs": [
    {
     "data": {
      "text/plain": [
       "[<matplotlib.lines.Line2D at 0x2bf27ba8>]"
      ]
     },
     "execution_count": 339,
     "metadata": {},
     "output_type": "execute_result"
    },
    {
     "data": {
      "image/png": "[encoded data removed]",
      "text/plain": [
       "<Figure size 1152x432 with 1 Axes>"
      ]
     },
     "metadata": {},
     "output_type": "display_data"
    }
   ],
   "source": [
    "X = []\n",
    "Y = []\n",
    "lah = 32\n",
    "for win_pow in range(5,18):\n",
    "    win = 2**win_pow\n",
    "    lz = lz77(quijote, lah, win).replace('(','').replace(')','').replace(',','')\n",
    "\n",
    "    ratio = len(lz) *1. / len(quijote)\n",
    "    X += [win]\n",
    "    Y += [ratio]\n",
    "\n",
    "plt.figure(figsize=[16,6])\n",
    "plt.ylabel('Compression Ratio')\n",
    "plt.xlabel('Window Size')\n",
    "plt.plot(X,Y)"
   ]
  },
  {
   "cell_type": "markdown",
   "metadata": {},
   "source": [
    "### Lookahead de 64 bits, Window de 2^6 a 2^18"
   ]
  },
  {
   "cell_type": "code",
   "execution_count": 341,
   "metadata": {},
   "outputs": [
    {
     "data": {
      "text/plain": [
       "[<matplotlib.lines.Line2D at 0x2c547588>]"
      ]
     },
     "execution_count": 341,
     "metadata": {},
     "output_type": "execute_result"
    },
    {
     "data": {
      "image/png": "[encoded data removed]",
      "text/plain": [
       "<Figure size 1152x432 with 1 Axes>"
      ]
     },
     "metadata": {},
     "output_type": "display_data"
    }
   ],
   "source": [
    "X = []\n",
    "Y = []\n",
    "lah = 64\n",
    "for win_pow in range(6,18):\n",
    "    win = 2**win_pow\n",
    "    lz = lz77(quijote, lah, win).replace('(','').replace(')','').replace(',','')\n",
    "\n",
    "    ratio = len(lz) *1. / len(quijote)\n",
    "    X += [win]\n",
    "    Y += [ratio]\n",
    "\n",
    "plt.figure(figsize=[16,6])\n",
    "plt.ylabel('Compression Ratio')\n",
    "plt.xlabel('Window Size')\n",
    "plt.plot(X,Y)"
   ]
  },
  {
   "cell_type": "markdown",
   "metadata": {},
   "source": [
    "## Conclusiones de los Gràficos de las Pruebas\n",
    "\n",
    "Experimentando, hemos descubierto que por regla general *LZ77* funciona mejor para valores muy grandes de *window* y muy pequeños (pero no demasiado) de *lookahead* (ventana de entrada).  \n",
    "\n",
    "De los graficos podemos extraer las siguientes apreciaciones:\n",
    "\n",
    "- Para valores de *looakead* muy pequeños (en nuestro caso 16 bits), comprimir por debajo de $1$ es virtualmente imposible.\n",
    "- Para valores de ventana muy pequeños LZ77 hace **mas grande** un bitstring.\n",
    "- Existe un valor de ventana $W_0$ donde el ratio de compresion es maximo para un valor *lookahead* $L_a$ dado\n",
    "- Existe un *efecto rebote* cuando nos alejamos de $W_0$ por los dos lados, perdiendo ratio de compresion a ambos extremos\n",
    "- Para valores de ventana que abarcan toda la longitud del archivo, el ratio de compresion tiende a $1$"
   ]
  }
 ],
 "metadata": {
  "kernelspec": {
   "display_name": "Python 2",
   "language": "python",
   "name": "python2"
  },
  "language_info": {
   "codemirror_mode": {
    "name": "ipython",
    "version": 2
   },
   "file_extension": ".py",
   "mimetype": "text/x-python",
   "name": "python",
   "nbconvert_exporter": "python",
   "pygments_lexer": "ipython2",
   "version": "2.7.14"
  }
 },
 "nbformat": 4,
 "nbformat_minor": 2
}
